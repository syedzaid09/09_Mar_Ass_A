{
 "cells": [
  {
   "cell_type": "code",
   "execution_count": 1,
   "id": "6068ffc4-240b-4cc7-93fc-1bc386fdc981",
   "metadata": {},
   "outputs": [],
   "source": [
    "# Qus 1"
   ]
  },
  {
   "cell_type": "raw",
   "id": "9296f6ec-315b-456a-8f32-b34ae85fe9fa",
   "metadata": {},
   "source": [
    "Probability Mass Function(PMF):\n",
    "    The Probability Mass Function (PMF) is used to describe the probability distribution of a discrete random variable. It gives the probability that a discrete random variable X taked on a specific value random variable. It gives the probility that a discrete random variable X takes on a specific value x. Mathematically , the PMF of a random variable X is denoted as P(X=x), which assigns probabilities to each possible outcome x.\n",
    "    The PMF must satisfy two conditions:\n",
    "        1. For each possible value,P(X=x)>=0.\n",
    "        2. The sum of probabilities over all possible values of X must be 1:∑allxP(X=x)=1.\n",
    "        Example of PMF:\n",
    "Consider a fair six-sided die. Let X be the outcome when the die is rolled. The PMF of X can be defined as:\n",
    "P(X=1)= 1/6 ,P(X=2)=1/6, P(X=3)=1/6, P(X=4)=1/6,P(X=5)=1/6 ,P(X=6)=1/6.\n",
    "Here,each outcome has an equal probability of 1/6, and the sum of all these probabilities is 1.\n",
    "        \n",
    "Probability Density Function (PDF):\n",
    "    The Probability Density Function (PDF) is used to describe the probability distribution of a continuous random variable. Unlike discrete random variables, Continuous random variabbles can take on an infinite number of values within a certain range. The PDF, denoted as f(x),gives the relative likelihood of a continuous random variable X falling within a particular range of values.\n",
    "The PDF must satisfy:\n",
    "    1. f(x)>=0 for all x.\n",
    "    2. The total area under the PDF curve over the entire range of X equals 1:∫f(x)dx=1.\n",
    "\n",
    "Consider a continuous random variable X representing the height of adult males. Let's assume X follows a normal (Gaussian) distribution with mean μ=70 inches and standard deviation σ=3 inches.\n",
    "where μ=70 and σ=3. This PDF describes the bell-shaped curve representing the distribution of male heights. The probability that a randomly chosen male has a height between, say, 65 inches and 75 inches can be computed by integrating this PDF over that range.\n"
   ]
  },
  {
   "cell_type": "code",
   "execution_count": 2,
   "id": "4d8d3bdd-c1b8-4613-9add-aeb3aedc3a92",
   "metadata": {},
   "outputs": [],
   "source": [
    "# Qus 2"
   ]
  },
  {
   "cell_type": "raw",
   "id": "261947c8-d489-4692-9bb0-9d95e6ee0f3a",
   "metadata": {},
   "source": [
    "The Cumulative Distribution Function (CDF) is a fundamental concept in probability theory and statistics used to describe the probability distribution of a random variable, wehther it is discrete or continuous. The CDF of a random variable X, denoted as F(x) , gives the probability that X takes on a value less than or equal to a specific value x.\n",
    "Definition of Cumulative Distribution Function(CDF):\n",
    "    For a random variable X, the Cumulative Distribution Function (CDF) F(x) is defined as:\n",
    "        F(x)=P(X<=x) where -∞<x<∞.\n",
    "        \n",
    "Example:\n",
    "    Let's consider a simple example using a fair six-sided die. Suppose X is the outcome when the die is rolled. The PMF (Probability Mass Function) of X is given by:\n",
    "    P(X=1)=1/6, P(X=2)=1/6,P(X=3)=1/6,P(X=4)=1/6,P(X=5)=1/6,P(X=6)=1/6\n",
    "    \n",
    "To find the CDF F(x) for this example, we calculate F(x)=P(X<=x) for each possible value of x.\n",
    "1. For x<1: F(x)=P(X<=x)=0\n",
    "2. For 1<=x<2: F(x)=P(X<=x)=P(X=1)=1/6\n",
    "3. For 2<=x<3: F(x)=P(X<=x)=P(X=1)+P(X=2)=1/6+1/6=1/3\n",
    "4. Continuing this process, we calculate F(x) for x=3,4,5,6 using the cumulative probabilities up to each value of x.\n",
    "\n",
    "The resulting CDF(X) for this example is a step function that increase by 1/6 at each integer value of x from 1 to 6 , reaching 1 at x=6."
   ]
  },
  {
   "cell_type": "code",
   "execution_count": 3,
   "id": "5e24e53b-6d75-4fc4-8c1e-6bde206edf32",
   "metadata": {},
   "outputs": [],
   "source": [
    "# Qus 3"
   ]
  },
  {
   "cell_type": "raw",
   "id": "a3ceec5b-6a47-4214-86df-1f90cedd6a37",
   "metadata": {},
   "source": [
    "The normal distruibution , also known as the Gaussian Distribution, is a widely used probability distribution in various fields due to its mathematical tractability and its tendency to describe many natural phenomena.\n",
    "Here are some examples of situations where the normal distribution might be used as a model:\n",
    "    1. Height and Weight of Individuals: In a population , heights and weights often follow approximately normal distributions. The mean(μ) and standard deviation (σ) of these distributions can descibre the average height and the variability around that average within the population.\n",
    "    2. Measurement Errors: When making repeated measurements of the same quantity, measurement errors often exhibit a normal distribution around the true value of the quantity.\n",
    "    3. Test Scores:Scores on standard tests (like SAT , GRE,etc.) often approximate a normal distribution . the mean and standard deviation of the scores can provide information about the average performance and the spread of scores among test takers.\n",
    "    4. Biological Phenomena : Many biological measurements such as blood pressure, cholestrol levels, enzyme activity,etc, are often modeled using the normal distribution.\n",
    "    5. Financial Data: Returns on investments or stock prices over a period of time often follow a normal distribution .\n",
    "    \n",
    "    \n",
    "Now, let's discuss how the parameters of the normal distribution (mean, μ, and standard deviation, σ) relate to the shape of the distribution:\n",
    "Mean (μ): The mean of the normal distribution determines its center or location. It represents the average or expected value of the distribution. Changing the mean shifts the entire distribution left or right along the x-axis.\n",
    "Standard Deviation (σ): The standard deviation of the normal distribution controls the spread or dispersion of the distribution. A smaller standard deviation means that the values tend to be closer to the mean, resulting in a narrower and taller distribution. A larger standard deviation means that the values are more spread out from the mean, resulting in a wider and flatter distribution.\n"
   ]
  },
  {
   "cell_type": "code",
   "execution_count": 4,
   "id": "95798498-3fcf-4a8b-add4-30042c48ec12",
   "metadata": {},
   "outputs": [],
   "source": [
    "# Qus 4"
   ]
  },
  {
   "cell_type": "raw",
   "id": "5ab9ed50-efd3-4817-b6a6-ed9e6460dd92",
   "metadata": {},
   "source": [
    "The normal distribution , also known as the Gaussian distribution , is a fundamental importance in statistics , probability theory, and many areas of science and engineering due to its numerous practical applicatrions and mathematical properties. \n",
    "Understanding the normal ditribution and its role in modeling real-world phenomena is crucial for making statistical infrences, analyzing data, and making predictions.\n",
    "Here some key reasons for the importance of the normal distribution:\n",
    "    1. Central Limit Theorem(CLT):\n",
    "        The normal distribution plays a central role in the Central Limit Theorem, which states that the sum(or average) of a large number of independent , identically distributed random variables tends towards a normal distribution,regardless of the underlying ditribution of the individual variables.\n",
    "    2. Statistical Infrence:\n",
    "        Many Statistical methods and tests are based onthe assumption of normality. For example, hypothesis tests and confidence intervals often rely on the assumption of normality for valid results.\n",
    "    \n",
    "    3.Modeling Real-World Data:\n",
    "        Numerous natural and social phenomena can be effecively modeled using the normal distribution due to its flexibility and simplicity. This includes measurments of physical characteristics (e.g.,height,weight), test scores , IQ scores , blood pressure readings , financial data, and more.\n",
    "    4.Prediction and Simulation:\n",
    "        The normal distribution is often use in simulation and predictive modelling\n",
    "    \n",
    "    5. Quality Control:\n",
    "        In manufacturing and industry, the normal distribution is used in quality control processes to monitor and assess product varibility.\n",
    "        \n",
    "        \n",
    "Real-Life Example of Normal Distribution:\n",
    "    \n",
    "* Height of Individuals:Heights of adult males or females in a population often follow a normal distribution with specific mean and standard deviation.\n",
    "* IQ Scores:Intelligence quotient (IQ) scores in alarge population typically approximate a normal distribution with mean of 100 and a standard deviation of 15.\n",
    "* Blood Pressure: Blood Pressure measurements in a population can be modeled using a normal distribution."
   ]
  },
  {
   "cell_type": "code",
   "execution_count": 5,
   "id": "7f66f6cf-1c22-4c5f-978d-6c12e25c0a3b",
   "metadata": {},
   "outputs": [],
   "source": [
    "# Qus 5"
   ]
  },
  {
   "cell_type": "raw",
   "id": "95a6da6c-be8b-4889-9df9-35b4caa360d4",
   "metadata": {},
   "source": [
    "The Bernoulli distribution is a discrete probability distribution that models a random experiment with two possible outcomes: success or failure .\n",
    "The outcomes are mutually exclusive and exhaustive, meaning that only one of these outcomes can occur in a single trail.\n",
    "The distribution is named after the Swiss mathematician Jacob Bernoulli.\n",
    "\n",
    "Example:\n",
    "    Consider an experiment of flipping a biased coin where 𝑝 is the probability of getting heads (success). If X represents the outcome of this experiment, then X follows a Bernoulli distribution with parameter 𝑝.\n",
    "For instance:\n",
    "If 𝑝=0.6, then P(X=1)=0.6 (probability of getting heads)\n",
    "Therefore, P(X=0)=1−0.6=0.4 (probability of getting tails)\n",
    "In this example,X can be interpreted as 1 (success) if the coin lands heads and 0 (failure) if the coin lands tails.\n",
    "\n",
    "Differnce between Bernoulli Distribution and Binomial Distribution:\n",
    "1. Nature of Distribution:\n",
    "    Bernoulli:Deals with a single trail or experiment with two possible outcomes (success or failure).\n",
    "    Binomial:Deals with the number of successes in a fixed number of independent Bernoulli trails.\n",
    "    \n",
    "2.Number of Trails:\n",
    "    Bernoulli:Describes a single trail.\n",
    "    Binomial:Describes the number of successes in n independent and identical trails.\n",
    "3.Parameters:\n",
    "    Bernoulli:Has one parameter p (probability of success in a single trail). \n",
    "    Binomial:Has two parameters n(number of trails) and p(probabiloity of success in each trail).\n",
    "4.Random Variables:\n",
    "    Bernoulli:The random variable X takes values 0 or 1 based on a single trail.\n",
    "    Binomial:The random variable Y reprensents the number of successes in n independent Bernoulli trails."
   ]
  },
  {
   "cell_type": "code",
   "execution_count": 6,
   "id": "6e6d76e3-0ed2-4a6b-9ed2-971fa72eb6ff",
   "metadata": {},
   "outputs": [],
   "source": [
    "# Qus 6"
   ]
  },
  {
   "cell_type": "code",
   "execution_count": 7,
   "id": "fe5ef86c-5d31-4525-8d98-a410bc255484",
   "metadata": {},
   "outputs": [
    {
     "name": "stdout",
     "output_type": "stream",
     "text": [
      "0.15865525393145707\n"
     ]
    }
   ],
   "source": [
    "import scipy.stats as stats\n",
    "mean=50\n",
    "std=10\n",
    "\n",
    "value_of_interest=60\n",
    "\n",
    "z_score=(value_of_interest - mean)/std\n",
    "\n",
    "probability =1-stats.norm.cdf(z_score)\n",
    "\n",
    "print(probability)"
   ]
  },
  {
   "cell_type": "code",
   "execution_count": 8,
   "id": "f0575f4b-8157-4de1-a1e5-0605d105ebe4",
   "metadata": {},
   "outputs": [],
   "source": [
    "# Qus 7"
   ]
  },
  {
   "cell_type": "raw",
   "id": "7ebebbbb-07bd-4343-820f-2fba9bd3b107",
   "metadata": {},
   "source": [
    "The uniform distribution is a type of probability distribution where all outcomes or values within a given range are equally likely . In other words, every possible value inthe range has an equal probability of occuring . The uniform distribution is often denoted as U(a,b) , where a and b are the parameters that defimnes the interval or range of the distribution.\n",
    "example:\n",
    "    Consider a simple example of a uniform distribution U(0,1), where a=0 and b=1. In this case, any value x in the interval [0, 1] is equally likely to occur."
   ]
  },
  {
   "cell_type": "code",
   "execution_count": 9,
   "id": "965bf602-8de5-46a8-a6f1-d3ed8494006d",
   "metadata": {},
   "outputs": [],
   "source": [
    "# Qus 8"
   ]
  },
  {
   "cell_type": "raw",
   "id": "5068e32b-cf22-4118-85b1-c430cdf27137",
   "metadata": {},
   "source": [
    "The z-score (also known as the standard score) is a statistical measure that quantifies the number of standard deviations a data point is from the mean of the dataset. it is caculated using the following formula:\n",
    "    z=x-μ/σ\n",
    "x is the raw score (value) being standardized,\n",
    "μ is the mean of the dataset,\n",
    "σ is the standard deviation of the dataset,\n",
    "z is the z-score.\n",
    "\n",
    "Importance of the z-score:\n",
    "    1. Standardization: the z-score is used to standardize data and make different datasets comparable.\n",
    "    2. Identifying Outliers:Z-scores can help identify outliers in a dataset.\n",
    "    3. Probability calculations: Z-scores are usedd in probability calculations related to the standard normal distribution.\n",
    "    4. Hypothesis Testing: In hypothesis testing , z-scores are used to determine the statistical significance of test results.\n",
    "    5. Data Analysis and Decision Making: Z-scores are helpful in data analysis and decision making.\n",
    "    5. Normalization and Scaling: Z-scores are commonly used in machine learning and data preprocessing tasks to normalize and scale features."
   ]
  },
  {
   "cell_type": "code",
   "execution_count": 10,
   "id": "73f7def9-8190-48ea-83ac-370eec1f5104",
   "metadata": {},
   "outputs": [],
   "source": [
    "# Qus 9"
   ]
  },
  {
   "cell_type": "code",
   "execution_count": 11,
   "id": "5750ab38-6eec-401b-b891-487a81273b4f",
   "metadata": {},
   "outputs": [
    {
     "ename": "SyntaxError",
     "evalue": "invalid syntax (1773817065.py, line 1)",
     "output_type": "error",
     "traceback": [
      "\u001b[0;36m  Cell \u001b[0;32mIn[11], line 1\u001b[0;36m\u001b[0m\n\u001b[0;31m    The Central Limit Theorem (CLT) is a fundamental theroem in probability theory and statistics that describes the behavior of the sample means of a random variable, regardless of the shape of the original population distribution. the theorem states that as the sample size increases , the distribution of the sample means approaches a normal distribution, regardless of the shape of the population distribution.\u001b[0m\n\u001b[0m        ^\u001b[0m\n\u001b[0;31mSyntaxError\u001b[0m\u001b[0;31m:\u001b[0m invalid syntax\n"
     ]
    }
   ],
   "source": [
    "The Central Limit Theorem (CLT) is a fundamental theroem in probability theory and statistics that describes the behavior of the sample means of a random variable, regardless of the shape of the original population distribution. the theorem states that as the sample size increases , the distribution of the sample means approaches a normal distribution, regardless of the shape of the population distribution.\n",
    "Significance of the Central Limit Theorem:\n",
    "    1. Applicability to Real-World Data:\n",
    "        The Central Limit Theorem is highly significant because it allows us to use normal distribution-based statistical methods for analyzing real-world data , even when the underlying population distribution in unknown or non-normal.\n",
    "    2. Statistical Inference:\n",
    "        The Central Limit Theorem forms the basis of many statistical infrence techniques.\n",
    "    3. Quality Control and Process Improvement:\n",
    "        In manufacturing and quality control processes, the Central Limit Theorem is applied to monitor and improve product quality.\n",
    "    4.Sampling Theory:\n",
    "        The Central Limit Theorem underpins the concept of random sampling and its "
   ]
  },
  {
   "cell_type": "code",
   "execution_count": null,
   "id": "fce94edd-7854-47bb-8cce-117cf1f2fff4",
   "metadata": {},
   "outputs": [],
   "source": []
  }
 ],
 "metadata": {
  "kernelspec": {
   "display_name": "Python 3 (ipykernel)",
   "language": "python",
   "name": "python3"
  },
  "language_info": {
   "codemirror_mode": {
    "name": "ipython",
    "version": 3
   },
   "file_extension": ".py",
   "mimetype": "text/x-python",
   "name": "python",
   "nbconvert_exporter": "python",
   "pygments_lexer": "ipython3",
   "version": "3.10.8"
  }
 },
 "nbformat": 4,
 "nbformat_minor": 5
}
